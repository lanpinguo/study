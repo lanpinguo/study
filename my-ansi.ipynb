{
 "cells": [
  {
   "cell_type": "code",
   "execution_count": 71,
   "metadata": {},
   "outputs": [
    {
     "name": "stdout",
     "output_type": "stream",
     "text": [
      "b'I(592720) OPENTHREAD:[I] MeshForwarder-:     src:[fe80:0:0:0:74a9:dac6:5296:64b8]:19788\\r\\n'\n",
      "b'I(592720) OPENTHREAD:[I] MeshForwarder-:     src:[fe80:0:0:0:74a9:dac6:5296:64b8]:19788\\r\\n'\n",
      "1\n"
     ]
    }
   ],
   "source": [
    "from __future__ import annotations\n",
    "\n",
    "import re\n",
    "from typing import Iterable, Pattern, Text\n",
    "\n",
    "\n",
    "\n",
    "\n",
    "def _isplit(\n",
    "    text: bytes, pattern: Pattern[bytes], include_separators: bool = False\n",
    ") -> Iterable[bytes]:\n",
    "\n",
    "    prev_end = 0\n",
    "    for separator in re.finditer(pattern, text):\n",
    "        # Yield the text before separator.\n",
    "        yield text[prev_end : separator.start()]  # noqa: E203\n",
    "\n",
    "        # Yield separator.\n",
    "        if include_separators and (piece := separator.group(0)):\n",
    "            yield piece\n",
    "\n",
    "        # Update the start position.\n",
    "        prev_end = separator.end()\n",
    "\n",
    "    # Yield the text after the last separator.\n",
    "    yield text[prev_end:]\n",
    "\n",
    "\n",
    "class _CustomText(Text):\n",
    "    \"\"\"A custom string type for subclassing.\"\"\"\n",
    "\n",
    "    def __repr__(self) -> Text:\n",
    "        \"\"\"Return a string representation of the object.\"\"\"\n",
    "        return f\"{self.__class__.__name__}({super().__repr__()})\"\n",
    "\n",
    "\n",
    "class Ansi():\n",
    "\n",
    "    PATTERN = re.compile(br\"(\\x1B\\[[\\d;]*[a-zA-Z])\")\n",
    "\n",
    "    def __init__(self, input) -> None:\n",
    "        self.input = input\n",
    "        \n",
    "    def escapes(self) -> Iterable[Text]:\n",
    "        \"\"\"Yield ANSI escapes and text in the order they appear.\"\"\"\n",
    "        for match in _isplit(self.input, self.PATTERN, include_separators=True):\n",
    "            if not match:\n",
    "                continue\n",
    "\n",
    "            yield match \n",
    "            \n",
    "    def message(self) -> Iterable[Text]:\n",
    "        \"\"\"Yield ANSI text in the order they appear.\"\"\"\n",
    "        msg = b''\n",
    "        for match in _isplit(self.input, self.PATTERN, include_separators=False):\n",
    "            if not match:\n",
    "                continue\n",
    "\n",
    "            msg += match             \n",
    "        \n",
    "        return msg    \n",
    "\n",
    "MSG_TYPE_CMD        = 0\n",
    "MSG_TYPE_OPENTHREAD = 1\n",
    "MSG_TYPE_MATTER     = 2\n",
    "\n",
    "class MessageClassify():\n",
    "    \n",
    "    def __init__(self, input:bytes) -> None:\n",
    "        self.text = Ansi(input).message()    \n",
    "        self.type = self._classify()\n",
    "\n",
    "    def _classify(self):\n",
    "        OT_PATTERN = re.compile(b\"OPENTHREAD\\:\\[[a-zA-Z]\\]\")\n",
    "        \n",
    "        if OT_PATTERN.search(self.text):\n",
    "            return MSG_TYPE_OPENTHREAD\n",
    "        else:\n",
    "            return MSG_TYPE_CMD\n",
    "            \n",
    "    def msg_type(self):\n",
    "        return self.type\n",
    "\n",
    "    def msg_text(self):\n",
    "        return self.text\n",
    "\n",
    "           \n",
    "input = b'\\x1b[0;32mI(592720) OPENTHREAD:[I] MeshForwarder-:     src:[fe80:0:0:0:74a9:dac6:5296:64b8]:19788\\x1b[0m\\r\\n'            \n",
    "text = Ansi(input)\n",
    "list(text.escapes())\n",
    "\n",
    "print(text.message())\n",
    "\n",
    "msg = MessageClassify(input)\n",
    "    \n",
    "print(msg.msg_text())\n",
    "print(msg.msg_type())"
   ]
  },
  {
   "cell_type": "code",
   "execution_count": 36,
   "metadata": {},
   "outputs": [
    {
     "name": "stdout",
     "output_type": "stream",
     "text": [
      "test 1\n",
      "index 1, start0\n",
      "<re.Match object; span=(0, 7), match=b'\\x1b[0;32m'>\n",
      "********************************\n",
      "b''\n",
      "index 2, start94\n",
      "<re.Match object; span=(94, 98), match=b'\\x1b[0m'>\n",
      "********************************\n",
      "b'I(592720) OPENTHREAD:[I] MeshForwarder-:     src:[fe80:0:0:0:74a9:dac6:5296:64b8]:19788'\n",
      "b'\\r\\n'\n",
      "b'I(592720) OPENTHREAD:[I] MeshForwarder-:     src:[fe80:0:0:0:74a9:dac6:5296:64b8]:19788\\r\\n'\n",
      "test 2\n",
      "b'I(592720) OPENTHREAD:[I] MeshForwarder-:     src:[fe80:0:0:0:74a9:dac6:5296:64b8]:19788\\r\\n'\n",
      "b'I(592720) OPENTHREAD:[I] MeshForwarder-:     src:[fe80:0:0:0:74a9:dac6:5296:64b8]:19788\\r\\n'\n"
     ]
    }
   ],
   "source": [
    "import re\n",
    "from typing import Iterable, Pattern\n",
    "\n",
    "\n",
    "input = b'\\x1b[0;32mI(592720) OPENTHREAD:[I] MeshForwarder-:     src:[fe80:0:0:0:74a9:dac6:5296:64b8]:19788\\x1b[0m\\r\\n'\n",
    "\n",
    "     \n",
    "def ansi_split(\n",
    "    text: bytes, pattern: Pattern[bytes], include_separators: bool = False\n",
    ") -> Iterable[bytes]:\n",
    "    prev_end = 0\n",
    "    index = 0\n",
    "    for separator in re.finditer(pattern, text):\n",
    "        \n",
    "        index += 1\n",
    "        print(f'index {index}, start{ separator.start() }')\n",
    "        print(separator)\n",
    "        print('*' * 32)\n",
    "        # Yield the text before separator.\n",
    "        yield text[prev_end : separator.start()]  # noqa: E203\n",
    "\n",
    "        # Yield separator.\n",
    "        if include_separators and (piece := separator.group(0)):\n",
    "            yield piece\n",
    "\n",
    "        # Update the start position.\n",
    "        prev_end = separator.end()\n",
    "\n",
    "    # Yield the text after the last separator.\n",
    "    yield text[prev_end:]\n",
    "\n",
    "def ansi_escap(input):\n",
    "    PATTERN = re.compile(br\"(\\x1B\\[[\\d;]*[a-zA-Z])\")    \n",
    "    for match in ansi_split(input, PATTERN):\n",
    "        print(match)\n",
    "        if not match:\n",
    "            continue\n",
    "\n",
    "        yield match  \n",
    "\n",
    "# test = list(ansi_escap(input))  \n",
    "# print(test)\n",
    "print('test 1')\n",
    "rslt = b''.join(ansi_escap(input))       \n",
    "print(rslt)\n",
    "\n",
    "\n",
    "print('test 2')\n",
    "input_2 = b'I(592720) OPENTHREAD:[I] MeshForwarder-:     src:[fe80:0:0:0:74a9:dac6:5296:64b8]:19788\\r\\n'\n",
    "\n",
    "rslt = b''.join(ansi_escap(input_2))     \n",
    "print(rslt)\n"
   ]
  },
  {
   "cell_type": "code",
   "execution_count": 68,
   "metadata": {},
   "outputs": [
    {
     "name": "stdout",
     "output_type": "stream",
     "text": [
      "<re.Match object; span=(1, 15), match=b'OPENTHREAD:[W]'>\n",
      "Match found!\n"
     ]
    }
   ],
   "source": [
    "\n",
    "# 在Python中，`re.compile()`函数用于编译正则表达式，生成一个正则表达式对象。这个对象可以用于匹配和查找字符串。\n",
    "# 如果你想要传入一个`bytes`类型的字符串，你就需要使用`bytes`类型的正则表达式。\n",
    "# 以下是一个例子：\n",
    "\n",
    "import re\n",
    "\n",
    "# define a bytes string\n",
    "bytes_string = b\" OPENTHREAD:[W] Hello, World!\"\n",
    "\n",
    "# define a bytes regex\n",
    "bytes_regex = re.compile(b\"OPENTHREAD\\:\\[[a-zA-Z]\\]\")\n",
    "\n",
    "# use the regex to search the bytes string\n",
    "match = bytes_regex.search(bytes_string)\n",
    "\n",
    "# print the result\n",
    "print(match)\n",
    "if match:\n",
    "    print(\"Match found!\")\n",
    "else:\n",
    "    print(\"No match found.\")\n"
   ]
  },
  {
   "cell_type": "code",
   "execution_count": 2,
   "metadata": {},
   "outputs": [
    {
     "name": "stdout",
     "output_type": "stream",
     "text": [
      "hello world\n",
      "I(592720) OPENTHREAD:[I] MeshForwarder-:     src:[fe80:0:0:0:74a9:dac6:5296:64b8]:19788\n",
      "\n"
     ]
    }
   ],
   "source": [
    "# Define a byte string\n",
    "byte_string = b\"hello world\"\n",
    "\n",
    "# Convert the byte string to a string using the decode() method\n",
    "decoded_string = byte_string.decode(\"utf-8\")\n",
    "\n",
    "# Print the decoded string\n",
    "print(decoded_string)\n",
    "\n",
    "input_2 = b'I(592720) OPENTHREAD:[I] MeshForwarder-:     src:[fe80:0:0:0:74a9:dac6:5296:64b8]:19788\\r\\n'\n",
    "print(input_2.decode('utf-8'))"
   ]
  },
  {
   "cell_type": "code",
   "execution_count": 3,
   "metadata": {},
   "outputs": [
    {
     "name": "stdout",
     "output_type": "stream",
     "text": [
      "b'abcdefg'\n",
      "b'abcdef'\n"
     ]
    }
   ],
   "source": [
    "keybuf= b'abcdefg'\n",
    "\n",
    "print(keybuf)\n",
    "\n",
    "keybuf = keybuf[:-1]\n",
    "\n",
    "print(keybuf)"
   ]
  },
  {
   "cell_type": "code",
   "execution_count": 9,
   "metadata": {},
   "outputs": [
    {
     "name": "stdout",
     "output_type": "stream",
     "text": [
      "263\n",
      "b'KEY_BACKSPACE'\n",
      "b'^?'\n"
     ]
    }
   ],
   "source": [
    "import curses\n",
    "\n",
    "\n",
    "\n",
    "curses.initscr()\n",
    "\n",
    "print(curses.KEY_BACKSPACE)\n",
    "\n",
    "key_name = curses.keyname(curses.KEY_BACKSPACE)\n",
    "print(key_name)\n",
    "\n",
    "key_name = curses.keyname(127)\n",
    "print(key_name)\n",
    "\n",
    "print(curses.KEY_DC)"
   ]
  }
 ],
 "metadata": {
  "kernelspec": {
   "display_name": "Python 3",
   "language": "python",
   "name": "python3"
  },
  "language_info": {
   "codemirror_mode": {
    "name": "ipython",
    "version": 3
   },
   "file_extension": ".py",
   "mimetype": "text/x-python",
   "name": "python",
   "nbconvert_exporter": "python",
   "pygments_lexer": "ipython3",
   "version": "3.9.6"
  }
 },
 "nbformat": 4,
 "nbformat_minor": 2
}
